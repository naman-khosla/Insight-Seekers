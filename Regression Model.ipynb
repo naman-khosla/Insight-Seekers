{
 "cells": [
  {
   "cell_type": "markdown",
   "metadata": {},
   "source": [
    "### Part 2 - Regression Model"
   ]
  },
  {
   "cell_type": "code",
   "execution_count": 1,
   "metadata": {},
   "outputs": [],
   "source": [
    "import pandas as pd\n",
    "import numpy as np\n",
    "from sklearn.model_selection import train_test_split\n",
    "from sklearn.metrics import classification_report, accuracy_score\n",
    "from sklearn.model_selection import GridSearchCV\n",
    "from test import data_prep\n",
    "\n",
    "# set the random seed - consistent\n",
    "rs = 10\n",
    "\n",
    "# load the data\n",
    "df,X,y,X_train, X_test, y_train, y_test = data_prep()"
   ]
  },
  {
   "cell_type": "code",
   "execution_count": 2,
   "metadata": {},
   "outputs": [
    {
     "name": "stdout",
     "output_type": "stream",
     "text": [
      "Before scaling\n",
      "-------------\n",
      "Variable #0: min 110, max 238, mean 171.82 and std dev 10.95\n",
      "Variable #1: min 44, max 180, mean 84.45 and std dev 23.93\n",
      "Variable #2: min 0, max 1, mean 0.89 and std dev 0.31\n",
      "Variable #3: min 0, max 1, mean 0.10 and std dev 0.31\n",
      "Variable #4: min 0, max 21, mean 7.68 and std dev 6.55\n",
      "After scaling\n",
      "-------------\n",
      "Variable #0: min -5.646019606867985, max 6.04457824596458, mean -0.00 and std dev 1.00\n",
      "Variable #1: min -1.6903772697732775, max 3.992266536727259, mean -0.00 and std dev 1.00\n",
      "Variable #2: min -2.905426148390667, max 0.34418358923142583, mean 0.00 and std dev 1.00\n",
      "Variable #3: min -0.3403471164356589, max 2.9381767957159473, mean 0.00 and std dev 1.00\n",
      "Variable #4: min -1.1717606550676136, max 2.0342595952204983, mean -0.00 and std dev 1.00\n"
     ]
    }
   ],
   "source": [
    "from sklearn.preprocessing import StandardScaler\n",
    "\n",
    "# initialise a standard scaler object\n",
    "scaler = StandardScaler()\n",
    "\n",
    "# visualise min, max, mean and standard dev of data before scaling\n",
    "print(\"Before scaling\\n-------------\")\n",
    "for i in range(5):\n",
    "    col = X_train[:,i]\n",
    "    print(\"Variable #{}: min {}, max {}, mean {:.2f} and std dev {:.2f}\".\n",
    "          format(i, min(col), max(col), np.mean(col), np.std(col)))\n",
    "\n",
    "# learn the mean and std.dev of variables from training data\n",
    "# then use the learned values to transform training data\n",
    "X_train = scaler.fit_transform(X_train, y_train)\n",
    "\n",
    "print(\"After scaling\\n-------------\")\n",
    "for i in range(5):\n",
    "    col = X_train[:,i]\n",
    "    print(\"Variable #{}: min {}, max {}, mean {:.2f} and std dev {:.2f}\".\n",
    "          format(i, min(col), max(col), np.mean(col), np.std(col)))\n",
    "\n",
    "# use the statistic that you learned from training to transform test data\n",
    "# NEVER learn from test data, this is supposed to be a set of dataset\n",
    "# that the model has never seen before\n",
    "X_test = scaler.transform(X_test)"
   ]
  },
  {
   "cell_type": "code",
   "execution_count": 3,
   "metadata": {},
   "outputs": [],
   "source": [
    "from sklearn.linear_model import LogisticRegression"
   ]
  },
  {
   "cell_type": "code",
   "execution_count": 4,
   "metadata": {},
   "outputs": [
    {
     "data": {
      "text/plain": [
       "LogisticRegression(random_state=10)"
      ]
     },
     "execution_count": 4,
     "metadata": {},
     "output_type": "execute_result"
    }
   ],
   "source": [
    "model = LogisticRegression(random_state=rs)\n",
    "\n",
    "# fit it to training data\n",
    "model.fit(X_train, y_train)"
   ]
  },
  {
   "cell_type": "code",
   "execution_count": 5,
   "metadata": {},
   "outputs": [
    {
     "name": "stdout",
     "output_type": "stream",
     "text": [
      "Train accuracy: 0.7208323591302315\n",
      "Test accuracy: 0.6988543371522095\n",
      "              precision    recall  f1-score   support\n",
      "\n",
      "           0       0.72      0.79      0.75      1070\n",
      "           1       0.66      0.58      0.61       763\n",
      "\n",
      "    accuracy                           0.70      1833\n",
      "   macro avg       0.69      0.68      0.68      1833\n",
      "weighted avg       0.70      0.70      0.70      1833\n",
      "\n"
     ]
    }
   ],
   "source": [
    "# training and test accuracy\n",
    "print(\"Train accuracy:\", model.score(X_train, y_train))\n",
    "print(\"Test accuracy:\", model.score(X_test, y_test))\n",
    "\n",
    "# classification report on test data\n",
    "y_pred = model.predict(X_test)\n",
    "print(classification_report(y_test, y_pred))"
   ]
  },
  {
   "cell_type": "code",
   "execution_count": 6,
   "metadata": {},
   "outputs": [
    {
     "name": "stdout",
     "output_type": "stream",
     "text": [
      "[[-0.25952016  0.32119384  0.12812985 -0.12295325 -0.02224027  0.23694197\n",
      "  -0.07270654  0.06400769  0.0897964  -0.04638758  0.23583433 -0.05331134\n",
      "   0.09394539  0.04071686 -0.07314382  0.01648235 -0.1506039  -0.09385934\n",
      "   0.15939346  0.21865768 -0.04695979  0.06686595 -0.02044334 -0.03096682\n",
      "   0.01037031  0.00344663 -0.03473082 -0.01276089  0.04443712  0.04400707\n",
      "  -0.34261742  0.02249763  0.3028883  -0.05487832 -0.01873686  0.03421187\n",
      "  -0.00127789  0.02801516  0.01138185 -0.02860118  0.01031977  0.01910771\n",
      "  -0.02207415 -0.00338368  0.00828456  0.00318192  0.05591086  0.0750367\n",
      "   0.00617402  0.05406055  0.01454405  0.04062629  0.02109983  0.0035591\n",
      "   0.00871863  0.04868589 -0.13608439  0.01735641 -0.0401244   0.02561788\n",
      "  -0.0105956   0.04425754  0.00733429 -0.10055387  0.01238761 -0.04992045\n",
      "   0.16263642 -0.0722524   0.01451059 -0.01420331 -0.12112612  0.19608823\n",
      "  -0.16419838]]\n"
     ]
    }
   ],
   "source": [
    "print(model.coef_)"
   ]
  },
  {
   "cell_type": "code",
   "execution_count": 7,
   "metadata": {},
   "outputs": [
    {
     "name": "stdout",
     "output_type": "stream",
     "text": [
      "height : -0.2595201639818025\n",
      "weight : 0.32119383865558215\n",
      "insurance : 0.12812985465719728\n",
      "immigrant : -0.12295324991997002\n",
      "contacts_count : -0.022240265049733525\n",
      "house_count : 0.23694196760867645\n",
      "gender_female : -0.07270653555465734\n",
      "gender_male : 0.06400768710996937\n",
      "gender_other : 0.0897964041442842\n",
      "age_0_10 : -0.046387582152975865\n",
      "age_100_110 : 0.23583433043334603\n",
      "age_10_20 : -0.05331134201530121\n",
      "age_20_30 : 0.09394538768680286\n",
      "age_30_40 : 0.04071686415165726\n",
      "age_40_50 : -0.0731438172273233\n",
      "age_50_60 : 0.016482345778457905\n",
      "age_60_70 : -0.15060390417640585\n",
      "age_70_80 : -0.09385934483346266\n",
      "age_80_90 : 0.1593934629050543\n",
      "age_90_100 : 0.21865767785101398\n",
      "blood_type_abn : -0.04695978583484142\n",
      "blood_type_abp : 0.066865949838356\n",
      "blood_type_an : -0.020443340859172075\n",
      "blood_type_ap : -0.03096681671661943\n",
      "blood_type_bn : 0.010370314472429651\n",
      "blood_type_bp : 0.003446629266259633\n",
      "blood_type_on : -0.034730818797493415\n",
      "blood_type_op : -0.012760894964218504\n",
      "blood_type_unknown : 0.04443711845810461\n",
      "income_gov : 0.044007069303601216\n",
      "income_high : -0.3426174244121577\n",
      "income_low : 0.022497631078874678\n",
      "income_med : 0.30288829753036395\n",
      "race_asian : -0.05487831753801635\n",
      "race_black : -0.018736864823957665\n",
      "race_hispanic : 0.03421186790421139\n",
      "race_mixed : -0.0012778941402658236\n",
      "race_other : 0.028015159682461675\n",
      "race_white : 0.011381851276049298\n",
      "smoking_never : -0.028601180680244174\n",
      "smoking_quit0 : 0.010319766856332043\n",
      "smoking_quit10 : 0.019107706056523694\n",
      "smoking_quit5 : -0.022074148023620725\n",
      "smoking_vape : -0.0033836783219778474\n",
      "smoking_yesheavy : 0.008284563961999114\n",
      "smoking_yeslight : 0.0031819180030850072\n",
      "smoking_yesmedium : 0.055910863181111034\n",
      "alcohol_0.0 : 0.07503669930348497\n",
      "alcohol_1.0 : 0.006174020877358109\n",
      "alcohol_10.0 : 0.054060552563002615\n"
     ]
    }
   ],
   "source": [
    "feature_names = X.columns\n",
    "coef = model.coef_[0]\n",
    "\n",
    "# limit to 20 features, you can comment the following line to print out everything\n",
    "coef = coef[:50]\n",
    "\n",
    "for i in range(len(coef)):\n",
    "    print(feature_names[i], ':', coef[i])"
   ]
  },
  {
   "cell_type": "code",
   "execution_count": 8,
   "metadata": {},
   "outputs": [
    {
     "name": "stdout",
     "output_type": "stream",
     "text": [
      "income_high : -0.3426174244121577\n",
      "weight : 0.32119383865558215\n",
      "income_med : 0.30288829753036395\n",
      "height : -0.2595201639818025\n",
      "house_count : 0.23694196760867645\n",
      "age_100_110 : 0.23583433043334603\n",
      "age_90_100 : 0.21865767785101398\n",
      "worried_4 : 0.19608822954643818\n",
      "worried_5 : -0.16419837782426303\n",
      "working_travel critical : 0.1626364163233923\n",
      "age_80_90 : 0.1593934629050543\n",
      "age_60_70 : -0.15060390417640585\n",
      "alcohol_3.013200498 : -0.1360843915213408\n",
      "insurance : 0.12812985465719728\n",
      "immigrant : -0.12295324991997002\n",
      "worried_3 : -0.12112611847622434\n",
      "working_home : -0.10055386929889876\n",
      "age_20_30 : 0.09394538768680286\n",
      "age_70_80 : -0.09385934483346266\n",
      "gender_other : 0.0897964041442842\n"
     ]
    }
   ],
   "source": [
    "# grab feature importances from the model and feature name from the original X\n",
    "coef = model.coef_[0]\n",
    "feature_names = X.columns\n",
    "\n",
    "# sort them out in descending order\n",
    "indices = np.argsort(np.absolute(coef))\n",
    "indices = np.flip(indices, axis=0)\n",
    "\n",
    "# limit to 20 features, you can leave this out to print out everything\n",
    "indices = indices[:20]\n",
    "\n",
    "for i in indices:\n",
    "    print(feature_names[i], ':', coef[i])"
   ]
  },
  {
   "cell_type": "code",
   "execution_count": 9,
   "metadata": {},
   "outputs": [
    {
     "data": {
      "text/plain": [
       "GridSearchCV(cv=10, estimator=LogisticRegression(random_state=10), n_jobs=-1,\n",
       "             param_grid={'C': [1e-06, 1e-05, 0.0001, 0.001, 0.01, 0.1, 1, 10,\n",
       "                               100, 1000]},\n",
       "             return_train_score=True)"
      ]
     },
     "execution_count": 9,
     "metadata": {},
     "output_type": "execute_result"
    }
   ],
   "source": [
    "# grid search CV\n",
    "params = {'C': [pow(10, x) for x in range(-6, 4)]}\n",
    "\n",
    "# use all cores to tune logistic regression with C parameter\n",
    "cv = GridSearchCV(param_grid=params, estimator=LogisticRegression(random_state=rs),return_train_score=True, cv=10, n_jobs=-1)\n",
    "cv.fit(X_train, y_train)"
   ]
  },
  {
   "cell_type": "code",
   "execution_count": 10,
   "metadata": {},
   "outputs": [
    {
     "name": "stdout",
     "output_type": "stream",
     "text": [
      "{'mean_fit_time': array([0.01136255, 0.01226108, 0.00717173, 0.00725121, 0.00777068,\n",
      "       0.00950248, 0.0116266 , 0.01371193, 0.01388481, 0.01515968]), 'std_fit_time': array([0.00304724, 0.00368313, 0.00182319, 0.00068145, 0.00073853,\n",
      "       0.00044065, 0.00299725, 0.00537156, 0.00349626, 0.0042905 ]), 'mean_score_time': array([0.00040259, 0.00041616, 0.00029483, 0.00031798, 0.00028532,\n",
      "       0.00028851, 0.00030484, 0.00028579, 0.00028856, 0.00030496]), 'std_score_time': array([1.33609193e-04, 2.01361203e-04, 8.65180257e-06, 8.19789067e-05,\n",
      "       2.31214522e-05, 2.75576092e-05, 9.21219402e-05, 1.98661628e-05,\n",
      "       1.95991239e-05, 7.59908085e-05]), 'param_C': masked_array(data=[1e-06, 1e-05, 0.0001, 0.001, 0.01, 0.1, 1, 10, 100,\n",
      "                   1000],\n",
      "             mask=[False, False, False, False, False, False, False, False,\n",
      "                   False, False],\n",
      "       fill_value='?',\n",
      "            dtype=object), 'params': [{'C': 1e-06}, {'C': 1e-05}, {'C': 0.0001}, {'C': 0.001}, {'C': 0.01}, {'C': 0.1}, {'C': 1}, {'C': 10}, {'C': 100}, {'C': 1000}], 'split0_test_score': array([0.58411215, 0.58411215, 0.5864486 , 0.73130841, 0.73831776,\n",
      "       0.74299065, 0.74065421, 0.74065421, 0.74065421, 0.74065421]), 'split1_test_score': array([0.58411215, 0.58411215, 0.58411215, 0.71028037, 0.72897196,\n",
      "       0.73130841, 0.73130841, 0.73130841, 0.73130841, 0.73130841]), 'split2_test_score': array([0.58411215, 0.58411215, 0.58411215, 0.71495327, 0.71728972,\n",
      "       0.72196262, 0.71728972, 0.71728972, 0.71728972, 0.71728972]), 'split3_test_score': array([0.58411215, 0.58411215, 0.5864486 , 0.70093458, 0.71728972,\n",
      "       0.72196262, 0.72196262, 0.72196262, 0.72196262, 0.72196262]), 'split4_test_score': array([0.58411215, 0.58411215, 0.5864486 , 0.70093458, 0.69626168,\n",
      "       0.69626168, 0.69859813, 0.69859813, 0.69859813, 0.69859813]), 'split5_test_score': array([0.58411215, 0.58411215, 0.58878505, 0.6588785 , 0.64953271,\n",
      "       0.64953271, 0.65186916, 0.64953271, 0.64719626, 0.64719626]), 'split6_test_score': array([0.58411215, 0.58411215, 0.5864486 , 0.71028037, 0.71728972,\n",
      "       0.71728972, 0.71495327, 0.71495327, 0.71495327, 0.71495327]), 'split7_test_score': array([0.58548009, 0.58548009, 0.58548009, 0.69789227, 0.70023419,\n",
      "       0.70023419, 0.70023419, 0.70023419, 0.70023419, 0.70023419]), 'split8_test_score': array([0.58313817, 0.58313817, 0.58548009, 0.71896956, 0.71194379,\n",
      "       0.71194379, 0.71428571, 0.71428571, 0.71428571, 0.71428571]), 'split9_test_score': array([0.58313817, 0.58313817, 0.58782201, 0.7236534 , 0.73067916,\n",
      "       0.7236534 , 0.7236534 , 0.7236534 , 0.7236534 , 0.7236534 ]), 'mean_test_score': array([0.58405415, 0.58405415, 0.58615859, 0.70680853, 0.71078104,\n",
      "       0.71171398, 0.71148088, 0.71124724, 0.71101359, 0.71101359]), 'std_test_score': array([0.00061114, 0.00061114, 0.00138918, 0.01888947, 0.02384735,\n",
      "       0.02446018, 0.02324205, 0.02384408, 0.02445138, 0.02445138]), 'rank_test_score': array([9, 9, 8, 7, 6, 1, 2, 3, 4, 4], dtype=int32), 'split0_train_score': array([0.5840478 , 0.5840478 , 0.58638607, 0.71654975, 0.71732918,\n",
      "       0.71758898, 0.71758898, 0.71758898, 0.71758898, 0.71758898]), 'split1_train_score': array([0.5840478 , 0.5840478 , 0.58742531, 0.7181086 , 0.72122629,\n",
      "       0.71888802, 0.7181086 , 0.7181086 , 0.7181086 , 0.7181086 ]), 'split2_train_score': array([0.5840478 , 0.5840478 , 0.58690569, 0.71862822, 0.71914783,\n",
      "       0.72018706, 0.71992725, 0.71966745, 0.71966745, 0.71966745]), 'split3_train_score': array([0.5840478 , 0.5840478 , 0.58742531, 0.72096648, 0.72174591,\n",
      "       0.71862822, 0.71862822, 0.71862822, 0.71862822, 0.71862822]), 'split4_train_score': array([0.5840478 , 0.5840478 , 0.58742531, 0.71732918, 0.71732918,\n",
      "       0.71603014, 0.71680956, 0.71732918, 0.71732918, 0.71732918]), 'split5_train_score': array([0.5840478 , 0.5840478 , 0.58742531, 0.7248636 , 0.72979995,\n",
      "       0.72772149, 0.72772149, 0.72772149, 0.72772149, 0.72772149]), 'split6_train_score': array([0.5840478 , 0.5840478 , 0.58612627, 0.71862822, 0.72434399,\n",
      "       0.7214861 , 0.72122629, 0.72122629, 0.72122629, 0.72122629]), 'split7_train_score': array([0.5838961 , 0.5838961 , 0.58753247, 0.71584416, 0.7187013 ,\n",
      "       0.71922078, 0.71896104, 0.71896104, 0.71896104, 0.71896104]), 'split8_train_score': array([0.58415584, 0.58415584, 0.58701299, 0.7187013 , 0.72233766,\n",
      "       0.72233766, 0.72207792, 0.72181818, 0.72181818, 0.72181818]), 'split9_train_score': array([0.58415584, 0.58415584, 0.58545455, 0.71636364, 0.72      ,\n",
      "       0.71896104, 0.71922078, 0.71922078, 0.71922078, 0.71922078]), 'mean_train_score': array([0.58405424, 0.58405424, 0.58691193, 0.71859831, 0.72119613,\n",
      "       0.72010495, 0.72002701, 0.72002702, 0.72002702, 0.72002702]), 'std_train_score': array([6.77818078e-05, 6.77818078e-05, 6.68378331e-04, 2.51993552e-03,\n",
      "       3.56788511e-03, 3.05936386e-03, 2.97621587e-03, 2.90906046e-03,\n",
      "       2.90906046e-03, 2.90906046e-03])}\n"
     ]
    }
   ],
   "source": [
    "result_set = cv.cv_results_\n",
    "print(result_set)"
   ]
  },
  {
   "cell_type": "code",
   "execution_count": 11,
   "metadata": {},
   "outputs": [
    {
     "name": "stdout",
     "output_type": "stream",
     "text": [
      "Total number of models:  10\n"
     ]
    },
    {
     "data": {
      "image/png": "[encoded data removed]",
      "text/plain": [
       "<Figure size 640x480 with 1 Axes>"
      ]
     },
     "metadata": {},
     "output_type": "display_data"
    }
   ],
   "source": [
    "import matplotlib.pyplot as plt\n",
    "train_result = result_set['split0_train_score']\n",
    "test_result = result_set['split0_test_score']\n",
    "print(\"Total number of models: \", len(test_result))\n",
    "# plot Hyperparameter C values vs training and test accuracy score\n",
    "plt.plot(range(0, len(train_result)), train_result, 'b', range(0,len(test_result)), test_result, 'r')\n",
    "plt.xlabel('Hyperparameter C\\nBlue = training acc. Red = test acc.')\n",
    "plt.xticks(range(0, len(train_result)),[pow(10, x) for x in range(-6, 4)])\n",
    "plt.ylabel('score')\n",
    "plt.show()"
   ]
  },
  {
   "cell_type": "code",
   "execution_count": 12,
   "metadata": {},
   "outputs": [
    {
     "name": "stdout",
     "output_type": "stream",
     "text": [
      "Total number of models:  10\n"
     ]
    },
    {
     "data": {
      "image/png": "[encoded data removed]",
      "text/plain": [
       "<Figure size 640x480 with 1 Axes>"
      ]
     },
     "metadata": {},
     "output_type": "display_data"
    }
   ],
   "source": [
    "import matplotlib.pyplot as plt\n",
    "\n",
    "train_result = result_set['mean_train_score']\n",
    "test_result = result_set['mean_test_score']\n",
    "print(\"Total number of models: \", len(test_result))\n",
    "# plot Hyperparameter C values vs training and test accuracy score\n",
    "plt.plot(range(0, len(train_result)), train_result, 'b', range(0,len(test_result)), test_result, 'r')\n",
    "plt.xlabel('Hyperparameter C\\nBlue = training acc. Red = test acc.')\n",
    "plt.xticks(range(0, len(train_result)),[pow(10, x) for x in range(-6, 4)])\n",
    "plt.ylabel('score')\n",
    "plt.show()"
   ]
  },
  {
   "cell_type": "code",
   "execution_count": 13,
   "metadata": {},
   "outputs": [
    {
     "name": "stdout",
     "output_type": "stream",
     "text": [
      "{'C': 0.1}\n"
     ]
    }
   ],
   "source": [
    "print(cv.best_params_)"
   ]
  },
  {
   "cell_type": "code",
   "execution_count": 14,
   "metadata": {},
   "outputs": [
    {
     "name": "stdout",
     "output_type": "stream",
     "text": [
      "Train accuracy: 0.7215337853635726\n",
      "Test accuracy: 0.6999454446262957\n"
     ]
    }
   ],
   "source": [
    "cv.fit(X_train, y_train)\n",
    "\n",
    "print(\"Train accuracy:\", cv.score(X_train, y_train))\n",
    "print(\"Test accuracy:\", cv.score(X_test, y_test))"
   ]
  },
  {
   "cell_type": "markdown",
   "metadata": {},
   "source": [
    "#### Feature Selection "
   ]
  },
  {
   "cell_type": "code",
   "execution_count": 15,
   "metadata": {},
   "outputs": [
    {
     "name": "stdout",
     "output_type": "stream",
     "text": [
      "Original feature set 73\n",
      "Number of features after elimination 45\n"
     ]
    }
   ],
   "source": [
    "from sklearn.feature_selection import RFECV\n",
    "\n",
    "rfe = RFECV(estimator = LogisticRegression(random_state=rs), cv=10)\n",
    "rfe.fit(X_train, y_train) # run the RFECV\n",
    "\n",
    "# comparing how many variables before and after\n",
    "print(\"Original feature set\", X_train.shape[1])\n",
    "print(\"Number of features after elimination\", rfe.n_features_)"
   ]
  },
  {
   "cell_type": "code",
   "execution_count": 41,
   "metadata": {},
   "outputs": [
    {
     "data": {
      "text/plain": [
       "RFECV(cv=10, estimator=LogisticRegression(random_state=10))"
      ]
     },
     "execution_count": 41,
     "metadata": {},
     "output_type": "execute_result"
    }
   ],
   "source": []
  },
  {
   "cell_type": "code",
   "execution_count": 27,
   "metadata": {},
   "outputs": [],
   "source": [
    "X_train_sel = rfe.transform(X_train)\n",
    "X_test_sel = rfe.transform(X_test)"
   ]
  },
  {
   "cell_type": "code",
   "execution_count": 29,
   "metadata": {},
   "outputs": [
    {
     "name": "stdout",
     "output_type": "stream",
     "text": [
      "{'criterion': 'gini', 'max_depth': 7, 'min_samples_leaf': 5}\n"
     ]
    }
   ],
   "source": [
    "import pickle\n",
    "with open('DT.pickle', 'rb') as f:\n",
    "    dt_best,roc_index_dt_cv, fpr_dt_cv, tpr_dt_cv = pickle.load(f)\n",
    "#dt_best.fit(X_train, y_train)\n",
    "\n",
    "print(dt_best.best_params_)"
   ]
  },
  {
   "cell_type": "code",
   "execution_count": 31,
   "metadata": {},
   "outputs": [
    {
     "name": "stdout",
     "output_type": "stream",
     "text": [
      "income_high : 0.34872370327525587\n",
      "worried_4 : 0.17358118643050438\n",
      "contacts_count : 0.06253753156021653\n",
      "weight : 0.05905449496889916\n",
      "insurance : 0.042566333400747454\n",
      "age_90_100 : 0.03594748670892724\n",
      "income_med : 0.03261246766501817\n",
      "house_count : 0.03080801251684309\n",
      "alcohol_3.013200498 : 0.027620018687811807\n",
      "height : 0.0253540709215135\n",
      "age_60_70 : 0.02278022300455977\n",
      "age_80_90 : 0.01850049861484965\n",
      "working_never : 0.014318373983829397\n",
      "race_white : 0.014207934758972751\n",
      "blood_type_abp : 0.012711737464550413\n",
      "immigrant : 0.007080664064990596\n",
      "worried_2 : 0.007032761092925618\n",
      "working_travel critical : 0.007006217533884044\n",
      "alcohol_1.0 : 0.006814198342017047\n",
      "race_mixed : 0.006245251326428939\n"
     ]
    }
   ],
   "source": [
    "from test import analyse_feature_importance\n",
    "\n",
    "# analyse feature importance from the tuned decision tree\n",
    "analyse_feature_importance(dt_best.best_estimator_, X.columns)"
   ]
  },
  {
   "cell_type": "code",
   "execution_count": 32,
   "metadata": {},
   "outputs": [
    {
     "name": "stdout",
     "output_type": "stream",
     "text": [
      "Train accuracy: 0.7217675941080196\n",
      "Test accuracy: 0.6999454446262957\n",
      "              precision    recall  f1-score   support\n",
      "\n",
      "           0       0.72      0.79      0.75      1070\n",
      "           1       0.66      0.58      0.62       763\n",
      "\n",
      "    accuracy                           0.70      1833\n",
      "   macro avg       0.69      0.68      0.69      1833\n",
      "weighted avg       0.70      0.70      0.70      1833\n",
      "\n",
      "{'C': 0.1}\n"
     ]
    }
   ],
   "source": [
    "# grid search CV\n",
    "params = {'C': [pow(10, x) for x in range(-6, 4)]}\n",
    "\n",
    "rfe_cv = GridSearchCV(param_grid=params, estimator=LogisticRegression(random_state=rs), cv=10, n_jobs=-1)\n",
    "rfe_cv.fit(X_train_sel, y_train)\n",
    "\n",
    "# test the best model\n",
    "print(\"Train accuracy:\", rfe_cv.score(X_train_sel, y_train))\n",
    "print(\"Test accuracy:\", rfe_cv.score(X_test_sel, y_test))\n",
    "\n",
    "y_pred = rfe_cv.predict(X_test_sel)\n",
    "print(classification_report(y_test, y_pred))\n",
    "\n",
    "# print parameters of the best model\n",
    "print(rfe_cv.best_params_)"
   ]
  },
  {
   "cell_type": "code",
   "execution_count": 33,
   "metadata": {},
   "outputs": [
    {
     "name": "stdout",
     "output_type": "stream",
     "text": [
      "(4277, 14)\n"
     ]
    }
   ],
   "source": [
    "from sklearn.feature_selection import SelectFromModel\n",
    "\n",
    "# use the trained best decision tree from GridSearchCV to select features\n",
    "# supply the prefit=True parameter to stop SelectFromModel to re-train the model\n",
    "selectmodel = SelectFromModel(dt_best.best_estimator_, prefit=True)\n",
    "X_train_sel_model = selectmodel.transform(X_train)\n",
    "X_test_sel_model = selectmodel.transform(X_test)\n",
    "\n",
    "print(X_train_sel_model.shape)"
   ]
  },
  {
   "cell_type": "code",
   "execution_count": 34,
   "metadata": {},
   "outputs": [
    {
     "name": "stdout",
     "output_type": "stream",
     "text": [
      "Train accuracy: 0.7042319382744915\n",
      "Test accuracy: 0.7010365521003818\n",
      "              precision    recall  f1-score   support\n",
      "\n",
      "           0       0.73      0.78      0.75      1070\n",
      "           1       0.66      0.59      0.62       763\n",
      "\n",
      "    accuracy                           0.70      1833\n",
      "   macro avg       0.69      0.69      0.69      1833\n",
      "weighted avg       0.70      0.70      0.70      1833\n",
      "\n",
      "{'C': 0.1}\n"
     ]
    }
   ],
   "source": [
    "params = {'C': [pow(10, x) for x in range(-6, 4)]}\n",
    "\n",
    "### For the params given, build a logistic regression model with GridSearch.\n",
    "\n",
    "cv_sel_model = GridSearchCV(param_grid=params, estimator=LogisticRegression(random_state=rs), cv=10, n_jobs=-1)\n",
    "cv_sel_model.fit(X_train_sel_model, y_train)\n",
    "\n",
    "print(\"Train accuracy:\", cv_sel_model.score(X_train_sel_model, y_train))\n",
    "print(\"Test accuracy:\", cv_sel_model.score(X_test_sel_model, y_test))\n",
    "\n",
    "# test the best model\n",
    "y_pred = cv_sel_model.predict(X_test_sel_model)\n",
    "print(classification_report(y_test, y_pred))\n",
    "\n",
    "# print parameters of the best model\n",
    "print(cv_sel_model.best_params_)"
   ]
  },
  {
   "cell_type": "markdown",
   "metadata": {},
   "source": [
    "### Comparison"
   ]
  },
  {
   "cell_type": "code",
   "execution_count": 35,
   "metadata": {},
   "outputs": [
    {
     "name": "stdout",
     "output_type": "stream",
     "text": [
      "ROC index on test for `model`: 0.7549552308276479\n",
      "ROC index on test for `cv`: 0.7551058904227043\n",
      "ROC index on test for `rfe_cv`: 0.7547647628030034\n",
      "ROC index on test for `cv_sel_model`: 0.7438505162847098\n"
     ]
    }
   ],
   "source": [
    "from sklearn.metrics import roc_auc_score\n",
    "\n",
    "y_pred_proba_lr = model.predict_proba(X_test)\n",
    "y_pred_proba_lr_cv = cv.predict_proba(X_test)\n",
    "y_pred_proba_rfe_cv = rfe_cv.predict_proba(X_test_sel)\n",
    "y_pred_proba_cv_sel_model = cv_sel_model.predict_proba(X_test_sel_model)\n",
    "\n",
    "\n",
    "roc_index_lr = roc_auc_score(y_test, y_pred_proba_lr[:, 1])\n",
    "roc_index_lr_cv = roc_auc_score(y_test, y_pred_proba_lr_cv[:, 1])\n",
    "roc_index_rfe_cv = roc_auc_score(y_test, y_pred_proba_rfe_cv[:, 1])\n",
    "roc_index_cv_sel_model = roc_auc_score(y_test, y_pred_proba_cv_sel_model[:, 1])\n",
    "\n",
    "print(\"ROC index on test for `model`:\", roc_index_lr)\n",
    "print(\"ROC index on test for `cv`:\", roc_index_lr_cv)\n",
    "print(\"ROC index on test for `rfe_cv`:\", roc_index_rfe_cv)\n",
    "print(\"ROC index on test for `cv_sel_model`:\", roc_index_cv_sel_model)"
   ]
  },
  {
   "cell_type": "code",
   "execution_count": 36,
   "metadata": {},
   "outputs": [],
   "source": [
    "from sklearn.metrics import roc_curve\n",
    "\n",
    "fpr_lr, tpr_lr, thresholds_lr = roc_curve(y_test, y_pred_proba_lr[:,1])\n",
    "fpr_lr_cv, tpr_lr_cv, thresholds_lr_cv = roc_curve(y_test, y_pred_proba_lr_cv[:,1])\n",
    "fpr_rfe_cv, tpr_rfe_cv, thresholds_rfe_cv = roc_curve(y_test, y_pred_proba_rfe_cv[:,1])\n",
    "fpr_cv_sel_model, tpr_cv_sel_model, thresholds_cv_sel_model = roc_curve(y_test, y_pred_proba_cv_sel_model[:,1])"
   ]
  },
  {
   "cell_type": "code",
   "execution_count": 37,
   "metadata": {},
   "outputs": [
    {
     "data": {
      "image/png": "[encoded data removed]",
      "text/plain": [
       "<Figure size 640x480 with 1 Axes>"
      ]
     },
     "metadata": {},
     "output_type": "display_data"
    }
   ],
   "source": [
    "import matplotlib.pyplot as plt\n",
    "\n",
    "plt.plot(fpr_lr, tpr_lr, label='ROC Curve for `model` {:.3f}'.format(roc_index_lr), color='red', lw=0.5)\n",
    "plt.plot(fpr_lr_cv, tpr_lr_cv, label='ROC Curve for `cv` {:.3f}'.format(roc_index_lr_cv), color='green', lw=0.5)\n",
    "plt.plot(fpr_rfe_cv, tpr_rfe_cv, label='ROC Curve for `rfe_cv` {:.3f}'.format(roc_index_rfe_cv), color='blue', lw=0.5)\n",
    "plt.plot(fpr_cv_sel_model, tpr_cv_sel_model, label='ROC Curve for `cv_sel_model` {:.3f}'.format(roc_index_cv_sel_model), color='yellow', lw=0.5)\n",
    "\n",
    "\n",
    "plt.plot([0, 1], [0, 1], color='navy', lw=0.5, linestyle='--')\n",
    "plt.xlim([0.0, 1.0])\n",
    "plt.ylim([0.0, 1.0])\n",
    "plt.xlabel('False Positive Rate')\n",
    "plt.ylabel('True Positive Rate')\n",
    "plt.title('Receiver operating characteristic example')\n",
    "plt.legend(loc=\"lower right\")\n",
    "plt.show()"
   ]
  },
  {
   "cell_type": "code",
   "execution_count": 38,
   "metadata": {},
   "outputs": [],
   "source": [
    "import pickle\n",
    "lr_best = cv_sel_model\n",
    "roc_index_lr_best = roc_index_cv_sel_model\n",
    "tpr_lr_best = tpr_cv_sel_model\n",
    "fpr_lr_best = fpr_cv_sel_model\n",
    "with open('LR.pickle', 'wb') as f:\n",
    "    pickle.dump([lr_best,roc_index_lr_best, fpr_lr_best, tpr_lr_best], f)"
   ]
  },
  {
   "cell_type": "code",
   "execution_count": 40,
   "metadata": {},
   "outputs": [
    {
     "name": "stdout",
     "output_type": "stream",
     "text": [
      "           height      weight   insurance   immigrant  contacts_count  \\\n",
      "count  685.000000  685.000000  685.000000  685.000000      685.000000   \n",
      "mean    -0.212718    0.318678    0.173401   -0.177617        0.114213   \n",
      "std      1.024549    1.110724    0.725657    0.712582        1.076603   \n",
      "min     -4.915357   -1.690377   -2.905426   -0.340347       -1.171761   \n",
      "25%     -0.896714   -0.520421    0.344184   -0.340347       -0.713758   \n",
      "50%     -0.166052    0.148125    0.344184   -0.340347       -0.255755   \n",
      "75%      0.381945    0.900240    0.344184   -0.340347        0.660251   \n",
      "max      2.573932    3.992267    0.344184    2.938177        2.034260   \n",
      "\n",
      "       house_count  gender_female  gender_male  gender_other    age_0_10  ...  \\\n",
      "count   685.000000     685.000000   685.000000    685.000000  685.000000  ...   \n",
      "mean      0.141657       0.194568    -0.198612      0.042269   -0.028696  ...   \n",
      "std       1.058022       0.991454     0.989913      1.368225    0.694087  ...   \n",
      "min      -1.192953      -0.951379    -1.046191     -0.048410   -0.055216  ...   \n",
      "25%      -0.616166      -0.951379    -1.046191     -0.048410   -0.055216  ...   \n",
      "50%      -0.039379       1.051106    -1.046191     -0.048410   -0.055216  ...   \n",
      "75%       0.537409       1.051106     0.955849     -0.048410   -0.055216  ...   \n",
      "max       4.574919       1.051106     0.955849     20.656718   18.110770  ...   \n",
      "\n",
      "       working_home  working_never  working_stopped  working_travel critical  \\\n",
      "count    685.000000     685.000000       685.000000               685.000000   \n",
      "mean      -0.081587      -0.070611         0.013849                 0.172223   \n",
      "std        0.865798       0.968699         1.007188                 1.100291   \n",
      "min       -0.302702      -0.670328        -0.632456                -0.523864   \n",
      "25%       -0.302702      -0.670328        -0.632456                -0.523864   \n",
      "50%       -0.302702      -0.670328        -0.632456                -0.523864   \n",
      "75%       -0.302702       1.491808         1.581139                 1.908891   \n",
      "max        3.303581       1.491808         1.581139                 1.908891   \n",
      "\n",
      "       working_travel non critical   worried_1   worried_2   worried_3  \\\n",
      "count                   685.000000  685.000000  685.000000  685.000000   \n",
      "mean                     -0.071016   -0.048009   -0.152153   -0.483435   \n",
      "std                       0.901725    0.704199    0.620141    0.592132   \n",
      "min                      -0.342482   -0.094680   -0.241664   -0.658264   \n",
      "25%                      -0.342482   -0.094680   -0.241664   -0.658264   \n",
      "50%                      -0.342482   -0.094680   -0.241664   -0.658264   \n",
      "75%                      -0.342482   -0.094680   -0.241664   -0.658264   \n",
      "max                       2.919865   10.561848    4.137980    1.519148   \n",
      "\n",
      "        worried_4   worried_5  \n",
      "count  685.000000  685.000000  \n",
      "mean     0.587864   -0.123033  \n",
      "std      0.695907    0.733158  \n",
      "min     -1.155804   -0.256488  \n",
      "25%      0.865199   -0.256488  \n",
      "50%      0.865199   -0.256488  \n",
      "75%      0.865199   -0.256488  \n",
      "max      0.865199    3.898815  \n",
      "\n",
      "[8 rows x 73 columns]\n"
     ]
    },
    {
     "ename": "AttributeError",
     "evalue": "'numpy.ndarray' object has no attribute 'describe'",
     "output_type": "error",
     "traceback": [
      "\u001b[0;31m---------------------------------------------------------------------------\u001b[0m",
      "\u001b[0;31mAttributeError\u001b[0m                            Traceback (most recent call last)",
      "\u001b[0;32m/var/folders/b5/sp6hfws91yl00720lq7qy0c80000gn/T/ipykernel_8268/1615369451.py\u001b[0m in \u001b[0;36m<module>\u001b[0;34m\u001b[0m\n\u001b[1;32m     21\u001b[0m \u001b[0;34m\u001b[0m\u001b[0m\n\u001b[1;32m     22\u001b[0m \u001b[0;31m# Provide the general characteristics of these individuals\u001b[0m\u001b[0;34m\u001b[0m\u001b[0;34m\u001b[0m\u001b[0m\n\u001b[0;32m---> 23\u001b[0;31m \u001b[0mcharacteristics\u001b[0m \u001b[0;34m=\u001b[0m \u001b[0mcovid_positive_individuals\u001b[0m\u001b[0;34m.\u001b[0m\u001b[0mdescribe\u001b[0m\u001b[0;34m(\u001b[0m\u001b[0;34m)\u001b[0m\u001b[0;34m\u001b[0m\u001b[0;34m\u001b[0m\u001b[0m\n\u001b[0m\u001b[1;32m     24\u001b[0m \u001b[0mprint\u001b[0m\u001b[0;34m(\u001b[0m\u001b[0mcharacteristics\u001b[0m\u001b[0;34m)\u001b[0m\u001b[0;34m\u001b[0m\u001b[0;34m\u001b[0m\u001b[0m\n",
      "\u001b[0;31mAttributeError\u001b[0m: 'numpy.ndarray' object has no attribute 'describe'"
     ]
    }
   ],
   "source": [
    "import pandas as pd\n",
    "\n",
    "# Convert the NumPy array to a Pandas DataFrame\n",
    "covid_positive_df = pd.DataFrame(covid_positive_individuals, columns=X.columns)\n",
    "\n",
    "# Provide the general characteristics of these individuals\n",
    "characteristics = covid_positive_df.describe()\n",
    "print(characteristics)\n",
    "\n",
    "# Set the probability threshold\n",
    "threshold = 0.5\n",
    "\n",
    "# Predict probabilities for the positive class (1)\n",
    "y_pred_proba = cv_sel_model.predict_proba(X_test_sel_model)[:, 1]\n",
    "\n",
    "# Classify individuals based on the threshold\n",
    "y_pred = (y_pred_proba >= threshold).astype(int)\n",
    "\n",
    "# Identify individuals predicted as \"COVID positive\"\n",
    "covid_positive_individuals = X_test[y_pred == 1]\n",
    "\n",
    "# Provide the general characteristics of these individuals\n",
    "characteristics = covid_positive_individuals.describe()\n",
    "print(characteristics)\n"
   ]
  }
 ],
 "metadata": {
  "kernelspec": {
   "display_name": "Python 3 (ipykernel)",
   "language": "python",
   "name": "python3"
  },
  "language_info": {
   "codemirror_mode": {
    "name": "ipython",
    "version": 3
   },
   "file_extension": ".py",
   "mimetype": "text/x-python",
   "name": "python",
   "nbconvert_exporter": "python",
   "pygments_lexer": "ipython3",
   "version": "3.9.13"
  }
 },
 "nbformat": 4,
 "nbformat_minor": 4
}
